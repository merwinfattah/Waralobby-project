{
  "cells": [
    {
      "cell_type": "code",
      "execution_count": null,
      "metadata": {
        "id": "hDycaGX0-GKW"
      },
      "outputs": [],
      "source": [
        "import tensorflow as tf\n",
        "from tensorflow.keras.optimizers import Adam\n",
        "from tensorflow.keras.callbacks import ModelCheckpoint\n",
        "from sklearn.metrics import roc_auc_score\n",
        "import pickle\n",
        "import os"
      ]
    },
    {
      "cell_type": "code",
      "execution_count": null,
      "metadata": {
        "colab": {
          "base_uri": "https://localhost:8080/"
        },
        "id": "YDRrBo_q-7dv",
        "outputId": "9d8bf5f5-1d21-46df-a052-a3ac388ba0b5"
      },
      "outputs": [
        {
          "output_type": "stream",
          "name": "stdout",
          "text": [
            "Mounted at /content/drive\n"
          ]
        }
      ],
      "source": [
        "from google.colab import drive\n",
        "drive.mount('/content/drive')\n",
        "os.chdir('drive/My Drive/Capstone Dataset')"
      ]
    },
    {
      "cell_type": "code",
      "execution_count": null,
      "metadata": {
        "id": "VNxm_cV0-JwC"
      },
      "outputs": [],
      "source": [
        "import pandas as pd\n",
        "import numpy as np\n",
        "from tqdm import tqdm\n",
        "import os\n",
        "import csv\n",
        "from tensorflow.keras.preprocessing.text import Tokenizer\n",
        "from tensorflow.keras.preprocessing.sequence import pad_sequences\n",
        "import io\n",
        "import json\n",
        "import random\n",
        "\n",
        "def parse_data_from_file(filename):\n",
        "    \"\"\"\n",
        "    Extracts sentences and labels from a CSV file\n",
        "    \n",
        "    Args:\n",
        "        filename (string): path to the CSV file\n",
        "    \n",
        "    Returns:\n",
        "        sentences, labels (list of string, list of string): tuple containing lists of sentences and labels\n",
        "    \"\"\"\n",
        "    sentences = []\n",
        "    sentiment = []\n",
        "    with open(filename, 'r') as csvfile:\n",
        "        reader = csv.reader(csvfile, delimiter=',')\n",
        "        next(reader)\n",
        "        for row in reader:\n",
        "            sentiment.append(int(row[3]))\n",
        "            sentence = row[1]\n",
        "            sentences.append(sentence)\n",
        "\n",
        "    return sentences, sentiment\n",
        "\n",
        "def train_val_test_split(sentences, sentiment, training_split):    \n",
        "    # Compute the number of sentences that will be used for training (should be an integer)\n",
        "    train_size = int(len(sentences) * training_split)\n",
        "    # val_size = train_size + int(len(sentences) * val_split)\n",
        "\n",
        "    # Split the sentences and labels into train/validation splits\n",
        "    train_sentences = sentences[:train_size]\n",
        "    train_sentiment = sentiment[:train_size]\n",
        "\n",
        "    validation_sentences = sentences[train_size:]\n",
        "    validation_sentiment = sentiment[train_size:]\n",
        "\n",
        "    # test_sentences = sentences[val_size:]\n",
        "    # test_sentiment = sentiment[val_size:]\n",
        "    \n",
        "    return train_sentences, validation_sentences, train_sentiment, validation_sentiment\n",
        "\n",
        "def fit_tokenizer(train_sentences, num_words, oov_token):\n",
        "  tokenizer = Tokenizer(num_words=num_words, oov_token=oov_token)\n",
        "  tokenizer.fit_on_texts(train_sentences)\n",
        "\n",
        "  return tokenizer\n",
        "\n",
        "def seq_and_pad(sentences, tokenizer, padding, maxlen):\n",
        "    \"\"\"\n",
        "    Generates an array of token sequences and pads them to the same length\n",
        "    \n",
        "    Args:\n",
        "        sentences (list of string): list of sentences to tokenize and pad\n",
        "        tokenizer (object): Tokenizer instance containing the word-index dictionary\n",
        "        padding (string): type of padding to use\n",
        "        maxlen (int): maximum length of the token sequence\n",
        "    \n",
        "    Returns:\n",
        "        padded_sequences (array of int): tokenized sentences padded to the same length\n",
        "    \"\"\"    \n",
        "       \n",
        "    # Convert sentences to sequences\n",
        "    sequences = tokenizer.texts_to_sequences(sentences)\n",
        "    \n",
        "    # Pad the sequences using the correct padding and maxlen\n",
        "    padded_sequences = pad_sequences(sequences, padding=padding, maxlen=maxlen)\n",
        "\n",
        "    return padded_sequences\n",
        "\n",
        "def load_data():\n",
        "    \"\"\"\n",
        "    Loads the data from the CSV files and splits them into train/validation/test sets\n",
        "    \n",
        "    Returns:\n",
        "        train_sentences, validation_sentences, train_sentiment, validation_sentiment\n",
        "    \"\"\"\n",
        "    # Load the data\n",
        "    sentences, sentiment = parse_data_from_file('processed_review_binary.csv')\n",
        "\n",
        "    # Bundle the two lists into a single one\n",
        "    sentences_and_sentiment = list(zip(sentences, sentiment))\n",
        "\n",
        "    # Perform random sampling\n",
        "    random.seed(42)\n",
        "    sentences_and_sentiment = random.sample(sentences_and_sentiment, len(sentences))\n",
        "\n",
        "    # Unpack back into separate lists\n",
        "    sentences, sentiment = zip(*sentences_and_sentiment)\n",
        "\n",
        "    # Split the data into train/validation/test sets\n",
        "    train_sentences, validation_sentences, train_sentiment, validation_sentiment = train_val_test_split(sentences, sentiment, 0.8)\n",
        "\n",
        "    # fit tokenizer\n",
        "    tokenizer = fit_tokenizer(train_sentences, num_words=NUM_WORDS, oov_token=OOV_TOKEN)\n",
        "    word_index = tokenizer.word_index\n",
        "     # save tokenizer vocabulary to file\n",
        "    tokenizer_json = tokenizer.to_json()\n",
        "    with io.open('tokenizer.json', 'w', encoding='utf-8') as f:\n",
        "        f.write(json.dumps(tokenizer_json, ensure_ascii=False))\n",
        "\n",
        "    # sequencing and padding sentences\n",
        "    train_padded_sentences = seq_and_pad(train_sentences, tokenizer, PADDING, MAXLEN)\n",
        "    validation_padded_sentences = seq_and_pad(validation_sentences, tokenizer, PADDING, MAXLEN)\n",
        "    # test_padded_sentences = seq_and_pad(test_sentences, tokenizer, PADDING, MAXLEN)\n",
        "\n",
        "    # initializing vocab_size\n",
        "    vocab_size = len(word_index) + 1\n",
        "\n",
        "    # converting sentences into numpy arrays\n",
        "    train_sentences = np.array(train_padded_sentences)\n",
        "    validation_sentences = np.array(validation_padded_sentences)\n",
        "    # test_sentences = np.array(test_padded_sentences)\n",
        "\n",
        "    # converting sentiment into numpy arrays\n",
        "    train_sentiment = np.array(train_sentiment)\n",
        "    validation_sentiment = np.array(validation_sentiment)\n",
        "    # test_sentiment = np.array(test_sentiment)\n",
        "\n",
        "    print(\"Finished loading data\\n\")\n",
        "\n",
        "    return train_sentences, validation_sentences, train_sentiment, validation_sentiment, vocab_size, word_index"
      ]
    },
    {
      "cell_type": "code",
      "execution_count": null,
      "metadata": {
        "id": "2pFYh5tb-jrY"
      },
      "outputs": [],
      "source": [
        "NUM_WORDS = 90000\n",
        "EMBEDDING_DIM = 100\n",
        "MAXLEN = 225\n",
        "PADDING = 'post'\n",
        "OOV_TOKEN = \"<OOV>\"\n",
        "TRUNC_TYPE = 'post'\n",
        "PADD_TYPE = 'post'"
      ]
    },
    {
      "cell_type": "code",
      "execution_count": null,
      "metadata": {
        "id": "GzmWPJON-oci"
      },
      "outputs": [],
      "source": [
        "def create_model(vocab_size, max_length, embedding_dim, word_index):\n",
        "    \n",
        "    lstm1_dim = 64\n",
        "    lstm2_dim = 32\n",
        "    dense_dim = 32\n",
        "\n",
        "    embeddings_index = {}\n",
        "    with io.open('glove.6B.100d.txt', 'r', encoding='utf-8') as f:\n",
        "        for line in f:\n",
        "            values = line.strip().split()\n",
        "            curr_word = values[0]\n",
        "            coefs = np.asarray(values[1:], dtype='float64')\n",
        "            embeddings_index[curr_word] = coefs\n",
        "\n",
        "    embedding_matrix = np.zeros((vocab_size, embedding_dim))\n",
        "    for word, i in word_index.items():\n",
        "        embedding_vector = embeddings_index.get(word)\n",
        "        if embedding_vector is not None:\n",
        "            embedding_matrix[i] = embedding_vector\n",
        "\n",
        "    # create the model\n",
        "    model = tf.keras.Sequential([\n",
        "        tf.keras.layers.Embedding(vocab_size, embedding_dim, input_length=max_length, weights=[embedding_matrix], trainable=False),\n",
        "        tf.keras.layers.Bidirectional(tf.keras.layers.LSTM(lstm1_dim, return_sequences=True)),\n",
        "        tf.keras.layers.Bidirectional(tf.keras.layers.LSTM(lstm2_dim)),\n",
        "        tf.keras.layers.Dropout(0.4),\n",
        "        tf.keras.layers.Dense(dense_dim, activation='relu'),\n",
        "        tf.keras.layers.Dense(1, activation='sigmoid')\n",
        "    ])\n",
        "    \n",
        "    # model.compile(loss='binary_crossentropy', optimizer='adam', metrics=['auc'])\n",
        "    return model    "
      ]
    },
    {
      "cell_type": "code",
      "execution_count": null,
      "metadata": {
        "id": "5xZx6TWuMk5y"
      },
      "outputs": [],
      "source": [
        "def create_model2(vocab_size, max_length, embedding_dim, word_index):\n",
        "    \n",
        "    lstm1_dim = 64\n",
        "    lstm2_dim = 32\n",
        "    dense_dim = 64\n",
        "\n",
        "    embeddings_index = {}\n",
        "    with io.open('glove.6B.100d.txt', 'r', encoding='utf-8') as f:\n",
        "        for line in f:\n",
        "            values = line.strip().split()\n",
        "            curr_word = values[0]\n",
        "            coefs = np.asarray(values[1:], dtype='float64')\n",
        "            embeddings_index[curr_word] = coefs\n",
        "\n",
        "    embedding_matrix = np.zeros((vocab_size, embedding_dim))\n",
        "    for word, i in word_index.items():\n",
        "        embedding_vector = embeddings_index.get(word)\n",
        "        if embedding_vector is not None:\n",
        "            embedding_matrix[i] = embedding_vector\n",
        "\n",
        "    # create the model\n",
        "    model = tf.keras.Sequential([\n",
        "        tf.keras.layers.Embedding(vocab_size, embedding_dim, input_length=max_length, weights=[embedding_matrix], trainable=False),\n",
        "        tf.keras.layers.Dropout(0.3),\n",
        "        tf.keras.layers.Conv1D(filters=128, kernel_size=3, activation='relu', kernel_constraint= tf.keras.constraints.MaxNorm( max_value=3, axis=[0,1])),\n",
        "        tf.keras.layers.Conv1D(filters=64, kernel_size=3, activation='relu'),\n",
        "        tf.keras.layers.MaxPooling1D(pool_size=4),\n",
        "        tf.keras.layers.Bidirectional(tf.keras.layers.LSTM(256, return_sequences=True)),\n",
        "        tf.keras.layers.Dropout(0.4),\n",
        "        tf.keras.layers.GlobalAveragePooling1D(),\n",
        "        tf.keras.layers.Dense(64, activation='relu'),\n",
        "        tf.keras.layers.Dropout(0.1),\n",
        "        tf.keras.layers.Dense(1, activation='sigmoid')\n",
        "    ])\n",
        "    \n",
        "    # model.compile(loss='binary_crossentropy', optimizer='adam', metrics=['auc'])\n",
        "    return model    "
      ]
    },
    {
      "cell_type": "code",
      "execution_count": null,
      "metadata": {
        "id": "r8ZDqo2OC1SZ"
      },
      "outputs": [],
      "source": [
        "from tensorflow.keras.utils import plot_model\n",
        "from tensorflow.keras.constraints import MaxNorm\n",
        "from tensorflow.keras.layers import Input, Embedding, Conv1D, Dropout, MaxPool1D, Flatten, Dense, Bidirectional, GRU\n",
        "from tensorflow.keras.models import Model\n",
        "from tensorflow.keras.layers import concatenate\n",
        "\n",
        "def create_model3(vocab_size, max_length, embedding_dim, word_index):\n",
        "    \n",
        "    lstm1_dim = 64\n",
        "    lstm2_dim = 32\n",
        "    dense_dim = 64\n",
        "\n",
        "    embeddings_index = {}\n",
        "    with io.open('glove.6B.100d.txt', 'r', encoding='utf-8') as f:\n",
        "        for line in f:\n",
        "            values = line.strip().split()\n",
        "            curr_word = values[0]\n",
        "            coefs = np.asarray(values[1:], dtype='float64')\n",
        "            embeddings_index[curr_word] = coefs\n",
        "\n",
        "    embedding_matrix = np.zeros((vocab_size, embedding_dim))\n",
        "    for word, i in word_index.items():\n",
        "        embedding_vector = embeddings_index.get(word)\n",
        "        if embedding_vector is not None:\n",
        "            embedding_matrix[i] = embedding_vector\n",
        "    \n",
        "    # Input Layer 1\n",
        "    input1 = Input(shape=(max_length,))\n",
        "    embeddding1 = Embedding(vocab_size, embedding_dim, input_length=max_length, weights=[embedding_matrix], trainable=False)(input1)\n",
        "    conv1 = Conv1D(filters=100, kernel_size=3, activation='relu', \n",
        "                   kernel_constraint= MaxNorm( max_value=3, axis=[0,1]))(embeddding1)\n",
        "    pool1 = MaxPool1D(pool_size=2, strides=2)(conv1)\n",
        "    flat1 = Flatten()(pool1)\n",
        "    drop1 = Dropout(0.5)(flat1)\n",
        "    dense1 = Dense(10, activation='relu')(drop1)\n",
        "    drop1 = Dropout(0.5)(dense1)\n",
        "    out1 = Dense(1, activation='sigmoid')(drop1)\n",
        "\n",
        "    # Input Layer 2\n",
        "    input2 = Input(shape=(max_length,))\n",
        "    embeddding2 = Embedding(vocab_size, embedding_dim, input_length=max_length, weights=[embedding_matrix], trainable=False)(input2)\n",
        "    gru2 = Bidirectional(GRU(64))(embeddding2)\n",
        "    drop2 = Dropout(0.5)(gru2)\n",
        "    out2 = Dense(1, activation='sigmoid')(drop2)\n",
        "\n",
        "    # create the model\n",
        "    merged = concatenate([out1, out2])\n",
        "    \n",
        "    # Interpretation\n",
        "    outputs = Dense(1, activation='sigmoid')(merged)\n",
        "    model = Model(inputs=[input1, input2], outputs=outputs)\n",
        "    \n",
        "    # model.compile(loss='binary_crossentropy', optimizer='adam', metrics=['auc'])\n",
        "    return model  "
      ]
    },
    {
      "cell_type": "code",
      "execution_count": null,
      "metadata": {
        "colab": {
          "base_uri": "https://localhost:8080/"
        },
        "id": "8gsiTHFw-r36",
        "outputId": "7b4d432e-3471-4c92-9e6b-b016a981b7b1"
      },
      "outputs": [
        {
          "output_type": "stream",
          "name": "stdout",
          "text": [
            "Finished loading data\n",
            "\n"
          ]
        }
      ],
      "source": [
        "training_finished = False\n",
        "\n",
        "x_train, x_val, y_train, y_val, vocab_size, word_index = load_data()\n",
        "\n",
        "class scoreTarget(tf.keras.callbacks.Callback):\n",
        "  def __init__(self, target):\n",
        "    super(scoreTarget, self).__init__()\n",
        "    self.target = target\n",
        "\n",
        "  def on_epoch_end(self, epoch, logs={}):\n",
        "    acc = logs['auc']\n",
        "    if acc >= self.target:\n",
        "      self.model.stop_training = True\n",
        "\n",
        "class ROAUCMetrics(tf.keras.callbacks.Callback):\n",
        "    def __init__(self, val_data):\n",
        "        super().__init__()\n",
        "        self.valid_x = val_data[0]\n",
        "        self.valid_y = val_data[1]\n",
        "\n",
        "    def on_train_begin(self, logs={}):\n",
        "        self.val_aucs = []\n",
        "\n",
        "    def on_epoch_end(self, epoch, logs={}):\n",
        "        pred = self.model.predict(self.valid_x)\n",
        "        val_auc = roc_auc_score(self.valid_y, pred,  average='micro')\n",
        "        print('\\nval-roc-auc: %s' % (str(round(val_auc,4))),end=100*' '+'\\n')\n",
        "        self.val_aucs.append(val_auc)\n",
        "        return\n",
        "\n",
        "roc = ROAUCMetrics(val_data=(x_val, y_val))\n",
        "early_stopping = tf.keras.callbacks.EarlyStopping(patience=5) # metric stop improving\n",
        "tensorboard    = tf.keras.callbacks.TensorBoard() \n",
        "reduce_lr      = tf.keras.callbacks.ReduceLROnPlateau(patience=3)\n",
        "# target         = scoreTarget(0.96)\n",
        "\n",
        "\n",
        "# model_checkpoint_callback = tf.keras.callbacks.ModelCheckpoint(\n",
        "#     filepath=checkpoint_filepath,\n",
        "#     monitor=tf.keras.metrics.AUC(),\n",
        "#     mode='auto')"
      ]
    },
    {
      "cell_type": "code",
      "execution_count": null,
      "metadata": {
        "colab": {
          "base_uri": "https://localhost:8080/"
        },
        "id": "mSG4lPQg-w-2",
        "outputId": "d9cbcf60-4831-460b-c04f-34e88badee7c"
      },
      "outputs": [
        {
          "output_type": "stream",
          "name": "stdout",
          "text": [
            "Finished creating model\n",
            "Epoch 1/15\n",
            "   6/4553 [..............................] - ETA: 4:11 - loss: 0.4898 - auc_1: 0.5552WARNING:tensorflow:Callback method `on_train_batch_end` is slow compared to the batch time (batch time: 0.0371s vs `on_train_batch_end` time: 0.0470s). Check your callbacks.\n",
            "4552/4553 [============================>.] - ETA: 0s - loss: 0.2490 - auc_1: 0.9093\n",
            "val-roc-auc: 0.9458                                                                                                    \n",
            "4553/4553 [==============================] - 231s 50ms/step - loss: 0.2489 - auc_1: 0.9093 - val_loss: 0.2040 - val_auc_1: 0.9430 - lr: 0.0010\n",
            "Epoch 2/15\n",
            "4553/4553 [==============================] - ETA: 0s - loss: 0.1937 - auc_1: 0.9468\n",
            "val-roc-auc: 0.9564                                                                                                    \n",
            "4553/4553 [==============================] - 244s 54ms/step - loss: 0.1937 - auc_1: 0.9468 - val_loss: 0.1831 - val_auc_1: 0.9554 - lr: 0.0010\n",
            "Epoch 3/15\n",
            "4553/4553 [==============================] - ETA: 0s - loss: 0.1771 - auc_1: 0.9556\n",
            "val-roc-auc: 0.9602                                                                                                    \n",
            "4553/4553 [==============================] - 223s 49ms/step - loss: 0.1771 - auc_1: 0.9556 - val_loss: 0.1768 - val_auc_1: 0.9594 - lr: 0.0010\n",
            "Epoch 4/15\n",
            "4553/4553 [==============================] - ETA: 0s - loss: 0.1578 - auc_1: 0.9644\n",
            "val-roc-auc: 0.962                                                                                                    \n",
            "4553/4553 [==============================] - 212s 47ms/step - loss: 0.1578 - auc_1: 0.9644 - val_loss: 0.1671 - val_auc_1: 0.9597 - lr: 0.0010\n",
            "Epoch 5/15\n",
            "4553/4553 [==============================] - ETA: 0s - loss: 0.1454 - auc_1: 0.9697\n",
            "val-roc-auc: 0.9623                                                                                                    \n",
            "4553/4553 [==============================] - 221s 49ms/step - loss: 0.1454 - auc_1: 0.9697 - val_loss: 0.1703 - val_auc_1: 0.9579 - lr: 0.0010\n",
            "Epoch 6/15\n",
            "4552/4553 [============================>.] - ETA: 0s - loss: 0.1330 - auc_1: 0.9747\n",
            "val-roc-auc: 0.9629                                                                                                    \n",
            "4553/4553 [==============================] - 241s 53ms/step - loss: 0.1330 - auc_1: 0.9747 - val_loss: 0.1717 - val_auc_1: 0.9611 - lr: 0.0010\n",
            "Epoch 7/15\n",
            "4552/4553 [============================>.] - ETA: 0s - loss: 0.1226 - auc_1: 0.9781\n",
            "val-roc-auc: 0.9608                                                                                                    \n",
            "4553/4553 [==============================] - 219s 48ms/step - loss: 0.1226 - auc_1: 0.9781 - val_loss: 0.1825 - val_auc_1: 0.9521 - lr: 0.0010\n",
            "Epoch 8/15\n",
            "4553/4553 [==============================] - ETA: 0s - loss: 0.0964 - auc_1: 0.9856\n",
            "val-roc-auc: 0.9619                                                                                                    \n",
            "4553/4553 [==============================] - 223s 49ms/step - loss: 0.0964 - auc_1: 0.9856 - val_loss: 0.1822 - val_auc_1: 0.9545 - lr: 1.0000e-04\n",
            "Epoch 9/15\n",
            "4553/4553 [==============================] - ETA: 0s - loss: 0.0901 - auc_1: 0.9871\n",
            "val-roc-auc: 0.9605                                                                                                    \n",
            "4553/4553 [==============================] - 225s 49ms/step - loss: 0.0901 - auc_1: 0.9871 - val_loss: 0.1918 - val_auc_1: 0.9502 - lr: 1.0000e-04\n"
          ]
        }
      ],
      "source": [
        "model = create_model(vocab_size, MAXLEN, EMBEDDING_DIM, word_index)\n",
        "\n",
        "print(\"Finished creating model\")\n",
        "\n",
        "optimizer = Adam(learning_rate=1e-3)\n",
        "model.compile(loss='binary_crossentropy', optimizer=optimizer, metrics=[tf.keras.metrics.AUC(from_logits=True)])\n",
        "\n",
        "history_model_1 = model.fit(x_train, y_train, batch_size=64, epochs=15, validation_data=(x_val, y_val), callbacks = [roc,early_stopping, tensorboard, reduce_lr])\n",
        "with open('history_model1_final.pkl', 'wb') as file_pi:\n",
        "        pickle.dump(history_model_1.history, file_pi)\n",
        "    \n",
        "model.save('sentimentmodel1_final.h5')"
      ]
    },
    {
      "cell_type": "code",
      "execution_count": null,
      "metadata": {
        "id": "x_e87vrlI4vg",
        "colab": {
          "base_uri": "https://localhost:8080/"
        },
        "outputId": "5004203f-0c3e-48d7-b6a3-15743380fa1a"
      },
      "outputs": [
        {
          "output_type": "stream",
          "name": "stdout",
          "text": [
            "Epoch 1/15\n"
          ]
        },
        {
          "output_type": "stream",
          "name": "stderr",
          "text": [
            "/usr/local/lib/python3.7/dist-packages/keras/optimizer_v2/adam.py:105: UserWarning: The `lr` argument is deprecated, use `learning_rate` instead.\n",
            "  super(Adam, self).__init__(name, **kwargs)\n"
          ]
        },
        {
          "output_type": "stream",
          "name": "stdout",
          "text": [
            "4553/4553 [==============================] - 99s 18ms/step - loss: 0.2842 - auc: 0.8773 - val_loss: 0.2466 - val_auc: 0.9254\n",
            "Epoch 2/15\n",
            "4553/4553 [==============================] - 82s 18ms/step - loss: 0.2302 - auc: 0.9233 - val_loss: 0.2085 - val_auc: 0.9411\n",
            "Epoch 3/15\n",
            "4553/4553 [==============================] - 82s 18ms/step - loss: 0.2134 - auc: 0.9346 - val_loss: 0.1935 - val_auc: 0.9473\n",
            "Epoch 4/15\n",
            "4553/4553 [==============================] - 81s 18ms/step - loss: 0.2036 - auc: 0.9410 - val_loss: 0.1858 - val_auc: 0.9509\n",
            "Epoch 5/15\n",
            "4553/4553 [==============================] - 80s 18ms/step - loss: 0.1953 - auc: 0.9459 - val_loss: 0.1841 - val_auc: 0.9530\n",
            "Epoch 6/15\n",
            "4553/4553 [==============================] - 80s 18ms/step - loss: 0.1903 - auc: 0.9489 - val_loss: 0.1845 - val_auc: 0.9502\n",
            "Epoch 7/15\n",
            "4553/4553 [==============================] - 80s 18ms/step - loss: 0.1866 - auc: 0.9507 - val_loss: 0.1789 - val_auc: 0.9552\n",
            "Epoch 8/15\n",
            "4553/4553 [==============================] - 81s 18ms/step - loss: 0.1834 - auc: 0.9524 - val_loss: 0.1823 - val_auc: 0.9530\n",
            "Epoch 9/15\n",
            "4553/4553 [==============================] - 80s 18ms/step - loss: 0.1800 - auc: 0.9545 - val_loss: 0.1818 - val_auc: 0.9536\n",
            "Epoch 10/15\n",
            "4553/4553 [==============================] - 80s 18ms/step - loss: 0.1776 - auc: 0.9556 - val_loss: 0.1825 - val_auc: 0.9542\n",
            "Epoch 11/15\n",
            "4553/4553 [==============================] - 81s 18ms/step - loss: 0.1742 - auc: 0.9572 - val_loss: 0.1755 - val_auc: 0.9573\n",
            "Epoch 12/15\n",
            "4553/4553 [==============================] - 79s 17ms/step - loss: 0.1728 - auc: 0.9579 - val_loss: 0.1733 - val_auc: 0.9569\n",
            "Epoch 13/15\n",
            "4553/4553 [==============================] - 80s 17ms/step - loss: 0.1722 - auc: 0.9584 - val_loss: 0.1736 - val_auc: 0.9564\n",
            "Epoch 14/15\n",
            "4553/4553 [==============================] - 82s 18ms/step - loss: 0.1695 - auc: 0.9596 - val_loss: 0.1729 - val_auc: 0.9574\n",
            "Epoch 15/15\n",
            "4553/4553 [==============================] - 80s 18ms/step - loss: 0.1686 - auc: 0.9601 - val_loss: 0.1709 - val_auc: 0.9589\n"
          ]
        }
      ],
      "source": [
        "model2 = create_model2(vocab_size, MAXLEN, EMBEDDING_DIM, word_index)\n",
        "optimizer = Adam(lr=1e-3, beta_1 = 0.9, beta_2 = 0.999, epsilon=1e-8, decay=0.0, amsgrad=False)\n",
        "model2.compile(loss='binary_crossentropy', optimizer=optimizer, metrics=[tf.keras.metrics.AUC(from_logits=True)])\n",
        "\n",
        "history2 = model2.fit(x = x_train, y = y_train, batch_size=64, epochs=15,verbose = 1, validation_data=(x_val, y_val))\n",
        "with open('history_final.pkl', 'wb') as file_pi:\n",
        "        pickle.dump(history2.history, file_pi)\n",
        "\n",
        "model2.save('final_model.h5')"
      ]
    },
    {
      "cell_type": "code",
      "execution_count": null,
      "metadata": {
        "id": "WUhLN7xdAD5C"
      },
      "outputs": [],
      "source": [
        "import matplotlib.pyplot as plt"
      ]
    },
    {
      "cell_type": "code",
      "execution_count": null,
      "metadata": {
        "id": "dUeEURbTQGPH"
      },
      "outputs": [],
      "source": [
        "with open('history__1.pkl', 'wb') as file_pi:\n",
        "  pickle.dump(history2.history, file_pi)"
      ]
    },
    {
      "cell_type": "code",
      "execution_count": null,
      "metadata": {
        "id": "OZQ-rGgYLWzO"
      },
      "outputs": [],
      "source": [
        "with open('history_1_1.pkl', 'rb') as file_pi:\n",
        "    history1 = pickle.load(file_pi)"
      ]
    },
    {
      "cell_type": "code",
      "execution_count": null,
      "metadata": {
        "id": "j0ieBjb_LoLW"
      },
      "outputs": [],
      "source": [
        "with open('history_final.pkl', 'rb') as file_pi:\n",
        "    history_final = pickle.load(file_pi)"
      ]
    },
    {
      "cell_type": "code",
      "source": [
        "with open('history_model1_final.pkl', 'rb') as file_pi:\n",
        "    history_model1_final = pickle.load(file_pi)"
      ],
      "metadata": {
        "id": "hqPyePDjrKNV"
      },
      "execution_count": null,
      "outputs": []
    },
    {
      "cell_type": "code",
      "execution_count": null,
      "metadata": {
        "colab": {
          "base_uri": "https://localhost:8080/",
          "height": 295
        },
        "id": "q9DPQ0g3LpgI",
        "outputId": "63cc1cd4-8a39-44b1-9059-826e44fec254"
      },
      "outputs": [
        {
          "output_type": "display_data",
          "data": {
            "text/plain": [
              "<Figure size 432x288 with 1 Axes>"
            ],
            "image/png": "[encoded data removed]"
          },
          "metadata": {
            "needs_background": "light"
          }
        }
      ],
      "source": [
        "#-----------------------------------------------------------\n",
        "# Retrieve a list of list results on training and test data\n",
        "# sets for each training epoch\n",
        "#-----------------------------------------------------------\n",
        "loss = history_final['loss']\n",
        "val_loss = history_final['val_loss']\n",
        "\n",
        "epochs = [*range(15)]\n",
        "\n",
        "#------------------------------------------------\n",
        "# Plot training and validation loss per epoch\n",
        "#------------------------------------------------\n",
        "plt.plot(epochs, loss, 'r')\n",
        "plt.plot(epochs, val_loss, 'b')\n",
        "plt.title('Training and validation loss Model 2')\n",
        "plt.xlabel(\"Epochs\")\n",
        "plt.ylabel(\"Loss\")\n",
        "plt.legend([\"Loss\", \"Validation Loss\"])\n",
        "plt.show()"
      ]
    },
    {
      "cell_type": "code",
      "source": [
        "#-----------------------------------------------------------\n",
        "# Retrieve a list of list results on training and test data\n",
        "# sets for each training epoch\n",
        "#-----------------------------------------------------------\n",
        "loss2 = history_model1_final['loss']\n",
        "val_loss2 = history_model1_final['val_loss']\n",
        "\n",
        "epochs2 = [*range(9)]\n",
        "\n",
        "#------------------------------------------------\n",
        "# Plot training and validation loss per epoch\n",
        "#------------------------------------------------\n",
        "plt.plot(epochs2, loss2, 'r')\n",
        "plt.plot(epochs2, val_loss2, 'b')\n",
        "plt.title('Training and validation loss Model 1')\n",
        "plt.xlabel(\"Epochs\")\n",
        "plt.ylabel(\"Loss\")\n",
        "plt.legend([\"Loss\", \"Validation Loss\"])\n",
        "plt.show()"
      ],
      "metadata": {
        "colab": {
          "base_uri": "https://localhost:8080/",
          "height": 295
        },
        "id": "jeFctSQbrSjo",
        "outputId": "e5f1dd66-8091-463d-a45a-bddebe5db69b"
      },
      "execution_count": null,
      "outputs": [
        {
          "output_type": "display_data",
          "data": {
            "text/plain": [
              "<Figure size 432x288 with 1 Axes>"
            ],
            "image/png": "[encoded data removed]"
          },
          "metadata": {
            "needs_background": "light"
          }
        }
      ]
    },
    {
      "cell_type": "code",
      "execution_count": null,
      "metadata": {
        "colab": {
          "base_uri": "https://localhost:8080/",
          "height": 295
        },
        "id": "UHCZX60iLtdu",
        "outputId": "ab44f7ea-d93e-4b86-bd4f-dc8d2cce9e31"
      },
      "outputs": [
        {
          "output_type": "display_data",
          "data": {
            "text/plain": [
              "<Figure size 432x288 with 1 Axes>"
            ],
            "image/png": "[encoded data removed]"
          },
          "metadata": {
            "needs_background": "light"
          }
        }
      ],
      "source": [
        "auc = history_final['auc']\n",
        "val_auc = history_final['val_auc']\n",
        "\n",
        "#------------------------------------------------\n",
        "# Plot training and validation accuracy per epoch\n",
        "#------------------------------------------------\n",
        "plt.plot(epochs, auc, 'r')\n",
        "plt.plot(epochs, val_auc, 'b')\n",
        "plt.title('Training and validation AUC Model 2')\n",
        "plt.xlabel(\"Epochs\")\n",
        "plt.ylabel(\"Accuracy\")\n",
        "plt.legend([\"AUC\", \"Validation AUC\"])\n",
        "plt.show()"
      ]
    },
    {
      "cell_type": "code",
      "source": [
        "auc2 = history_model1_final['auc_1']\n",
        "val_auc2 = history_model1_final['val_auc_1']\n",
        "\n",
        "#------------------------------------------------\n",
        "# Plot training and validation accuracy per epoch\n",
        "#------------------------------------------------\n",
        "plt.plot(epochs2, auc, 'r')\n",
        "plt.plot(epochs2, val_auc, 'b')\n",
        "plt.title('Training and validation AUC Model 1')\n",
        "plt.xlabel(\"Epochs\")\n",
        "plt.ylabel(\"Accuracy\")\n",
        "plt.legend([\"AUC\", \"Validation AUC\"])\n",
        "plt.show()"
      ],
      "metadata": {
        "colab": {
          "base_uri": "https://localhost:8080/",
          "height": 295
        },
        "id": "BqjMs1btrpVE",
        "outputId": "cdb999ec-d699-46e8-e79d-ef6822ff7c34"
      },
      "execution_count": null,
      "outputs": [
        {
          "output_type": "display_data",
          "data": {
            "text/plain": [
              "<Figure size 432x288 with 1 Axes>"
            ],
            "image/png": "[encoded data removed]"
          },
          "metadata": {
            "needs_background": "light"
          }
        }
      ]
    },
    {
      "cell_type": "code",
      "execution_count": null,
      "metadata": {
        "colab": {
          "base_uri": "https://localhost:8080/"
        },
        "id": "jQXAq94LLxI7",
        "outputId": "8b2842d3-335a-431f-90ab-faf6e442cd26"
      },
      "outputs": [
        {
          "output_type": "stream",
          "name": "stdout",
          "text": [
            "The slope of your validation loss curve for model 1 is -0.00329\n"
          ]
        }
      ],
      "source": [
        "# Test the slope of your val_loss curve\n",
        "from scipy.stats import linregress\n",
        "slope, *_ = linregress(epochs, val_loss)\n",
        "print(f\"The slope of your validation loss curve for model 1 is {slope:.5f}\")"
      ]
    },
    {
      "cell_type": "code",
      "source": [
        "# Test the slope of your val_loss curve\n",
        "from scipy.stats import linregress\n",
        "slope, *_ = linregress(epochs2, val_loss2)\n",
        "print(f\"The slope of your validation loss curve for model 2 is {slope:.5f}\")"
      ],
      "metadata": {
        "colab": {
          "base_uri": "https://localhost:8080/"
        },
        "id": "JlkxRPdusCC-",
        "outputId": "94565000-90a8-4dde-9dc9-3dc360dfb900"
      },
      "execution_count": null,
      "outputs": [
        {
          "output_type": "stream",
          "name": "stdout",
          "text": [
            "The slope of your validation loss curve for model 2 is -0.00059\n"
          ]
        }
      ]
    },
    {
      "cell_type": "code",
      "execution_count": null,
      "metadata": {
        "id": "u6Oz1zFZL0AR"
      },
      "outputs": [],
      "source": [
        "# Test"
      ]
    },
    {
      "cell_type": "code",
      "execution_count": null,
      "metadata": {
        "id": "ur-uy4FOQbe0"
      },
      "outputs": [],
      "source": [
        "import re\n",
        "import nltk\n",
        "from nltk import pos_tag, word_tokenize\n",
        "from nltk.stem import WordNetLemmatizer\n",
        "from nltk.corpus import stopwords\n",
        "nltk.download('punkt', quiet=True)\n",
        "nltk.download('averaged_perceptron_tagger', quiet=True)\n",
        "nltk.download('wordnet', quiet=True)\n",
        "nltk.download('stopwords',  quiet=True)\n",
        "nltk.download('omw-1.4', quiet=True)\n",
        "\n",
        "stop_words = set(stopwords.words('english'))\n",
        "\n",
        "lemmatizer = WordNetLemmatizer()\n",
        "\n",
        "def get_wordnet_pos(pos_tag):\n",
        "  if pos_tag.startswith('J'):\n",
        "    return 'a'\n",
        "  elif pos_tag.startswith('V'):\n",
        "    return 'v'\n",
        "  elif pos_tag.startswith('R'):\n",
        "    return 'r' # adverb\n",
        "  else:\n",
        "    return 'n'\n",
        "\n",
        "\n",
        "def process(text):\n",
        "  # lowercase\n",
        "  text = text.lower()\n",
        "  # remove all html tags \n",
        "  text = re.sub(r'<.*?>', '', text)\n",
        "  # remove hyperlinks\n",
        "  text = re.sub(r'http\\S+', '', text)\n",
        "  # remove special characters and punctuation\n",
        "  text = re.sub('[^a-z ]', '', text)\n",
        "  # split and remove stopwords\n",
        "  words = [word for word in text.split() if word == 'not' or not word in stop_words]\n",
        "  words_pos = pos_tag(words)\n",
        "  lemmatized_words = []\n",
        "  for word, tag in words_pos:\n",
        "    pos = get_wordnet_pos(tag)\n",
        "    lemmatized_word = lemmatizer.lemmatize(word, pos=pos)\n",
        "    lemmatized_words.append(lemmatized_word)\n",
        "  text = ' '.join(lemmatized_words)\n",
        "  return text"
      ]
    },
    {
      "cell_type": "code",
      "execution_count": null,
      "metadata": {
        "id": "rkqqnML_QU4Q"
      },
      "outputs": [],
      "source": [
        "import argparse\n",
        "import json\n",
        "import os\n",
        "import tensorflow as tf\n",
        "from tensorflow.keras.preprocessing.text import Tokenizer, tokenizer_from_json\n",
        "from tensorflow.keras.preprocessing.sequence import pad_sequences\n",
        "from keras.models import load_model\n",
        "\n",
        "# def parse_argument():\n",
        "#     parser = argparse.ArgumentParser(description='Test')\n",
        "#     parser.add_argument('--review', help='Review of the product')\n",
        "#     return parser.parse_args()\n",
        "\n",
        "\n",
        "def load_tokenizer():\n",
        "    with open('tokenizer.json') as f:\n",
        "        data = json.load(f)\n",
        "        tokenizer = tokenizer_from_json(data)\n",
        "    return tokenizer\n",
        "\n",
        "def predict(review):\n",
        "\n",
        "    tokenizer = load_tokenizer()\n",
        "    \n",
        "    processed_review = process(review)\n",
        "    encoded_review = tokenizer.texts_to_sequences([processed_review])[0]\n",
        "    encoded_review = pad_sequences([encoded_review], maxlen=MAXLEN, padding=PADD_TYPE, truncating=TRUNC_TYPE)\n",
        "    # model = load_model('sentimentmodel_1.h5')\n",
        "    pred = model2.predict([encoded_review])\n",
        "    \n",
        "    print(pred[0])\n",
        "\n",
        "    if pred[0][0] > 0.6:\n",
        "        print('Positive with {}%'.format(pred[0][0]*100))\n",
        "    else:\n",
        "        print('Negative with {}%'.format(100-pred[0][0]*100))"
      ]
    },
    {
      "cell_type": "code",
      "execution_count": null,
      "metadata": {
        "colab": {
          "base_uri": "https://localhost:8080/"
        },
        "id": "aJtx1WsUQsYb",
        "outputId": "5d5ae55a-00ae-45a8-ccb5-22b57d864580"
      },
      "outputs": [
        {
          "output_type": "stream",
          "name": "stdout",
          "text": [
            "[0.76296544]\n",
            "Positive with 76.2965440750122%\n"
          ]
        }
      ],
      "source": [
        "Dpredict(\"I won't come back again\")"
      ]
    },
    {
      "cell_type": "code",
      "execution_count": null,
      "metadata": {
        "id": "k_ZsPmw_RCV1",
        "colab": {
          "base_uri": "https://localhost:8080/"
        },
        "outputId": "a9ee8f13-a6fb-4bd4-843c-eda9cb90cc8d"
      },
      "outputs": [
        {
          "output_type": "stream",
          "name": "stdout",
          "text": [
            "Model: \"sequential\"\n",
            "_________________________________________________________________\n",
            " Layer (type)                Output Shape              Param #   \n",
            "=================================================================\n",
            " embedding (Embedding)       (None, 225, 100)          10403100  \n",
            "                                                                 \n",
            " dropout (Dropout)           (None, 225, 100)          0         \n",
            "                                                                 \n",
            " conv1d (Conv1D)             (None, 223, 128)          38528     \n",
            "                                                                 \n",
            " conv1d_1 (Conv1D)           (None, 221, 64)           24640     \n",
            "                                                                 \n",
            " max_pooling1d (MaxPooling1D  (None, 55, 64)           0         \n",
            " )                                                               \n",
            "                                                                 \n",
            " bidirectional (Bidirectiona  (None, 55, 512)          657408    \n",
            " l)                                                              \n",
            "                                                                 \n",
            " dropout_1 (Dropout)         (None, 55, 512)           0         \n",
            "                                                                 \n",
            " global_average_pooling1d (G  (None, 512)              0         \n",
            " lobalAveragePooling1D)                                          \n",
            "                                                                 \n",
            " dense (Dense)               (None, 64)                32832     \n",
            "                                                                 \n",
            " dropout_2 (Dropout)         (None, 64)                0         \n",
            "                                                                 \n",
            " dense_1 (Dense)             (None, 1)                 65        \n",
            "                                                                 \n",
            "=================================================================\n",
            "Total params: 11,156,573\n",
            "Trainable params: 753,473\n",
            "Non-trainable params: 10,403,100\n",
            "_________________________________________________________________\n"
          ]
        }
      ],
      "source": [
        "model2.summary()"
      ]
    },
    {
      "cell_type": "code",
      "source": [
        "def predict1(review):\n",
        "\n",
        "    tokenizer = load_tokenizer()\n",
        "    \n",
        "    processed_review = process(review)\n",
        "    encoded_review = tokenizer.texts_to_sequences([processed_review])[0]\n",
        "    encoded_review = pad_sequences([encoded_review], maxlen=MAXLEN, padding=PADD_TYPE, truncating=TRUNC_TYPE)\n",
        "    # model = load_model('sentimentmodel_1.h5')\n",
        "    pred = model.predict([encoded_review])\n",
        "    \n",
        "    print(pred)\n",
        "\n",
        "    if pred[0][0] > 0.6:\n",
        "        print('Positive with {}%'.format(pred[0][0]*100))\n",
        "    else:\n",
        "        print('Negative with {}%'.format(100-pred[0][0]*100))"
      ],
      "metadata": {
        "id": "NUyjCMkhgrMN"
      },
      "execution_count": null,
      "outputs": []
    },
    {
      "cell_type": "code",
      "source": [
        "predict1(\"I won't come back again\")"
      ],
      "metadata": {
        "colab": {
          "base_uri": "https://localhost:8080/"
        },
        "id": "ZHI3sPNxtWC2",
        "outputId": "04f640e3-efcd-4bfe-8381-1f2e5f5f7c6c"
      },
      "execution_count": null,
      "outputs": [
        {
          "output_type": "stream",
          "name": "stdout",
          "text": [
            "[[0.32443815]]\n",
            "Negative with 67.55618453025818%\n"
          ]
        }
      ]
    },
    {
      "cell_type": "code",
      "source": [
        "model.summary()"
      ],
      "metadata": {
        "colab": {
          "base_uri": "https://localhost:8080/"
        },
        "id": "lHDwzghAtYb8",
        "outputId": "f7cb639d-252f-4a60-ac66-30a0aaff25fc"
      },
      "execution_count": null,
      "outputs": [
        {
          "output_type": "stream",
          "name": "stdout",
          "text": [
            "Model: \"sequential_1\"\n",
            "_________________________________________________________________\n",
            " Layer (type)                Output Shape              Param #   \n",
            "=================================================================\n",
            " embedding_1 (Embedding)     (None, 225, 100)          10403100  \n",
            "                                                                 \n",
            " bidirectional_1 (Bidirectio  (None, 225, 128)         84480     \n",
            " nal)                                                            \n",
            "                                                                 \n",
            " bidirectional_2 (Bidirectio  (None, 64)               41216     \n",
            " nal)                                                            \n",
            "                                                                 \n",
            " dropout_3 (Dropout)         (None, 64)                0         \n",
            "                                                                 \n",
            " dense_2 (Dense)             (None, 32)                2080      \n",
            "                                                                 \n",
            " dense_3 (Dense)             (None, 1)                 33        \n",
            "                                                                 \n",
            "=================================================================\n",
            "Total params: 10,530,909\n",
            "Trainable params: 127,809\n",
            "Non-trainable params: 10,403,100\n",
            "_________________________________________________________________\n"
          ]
        }
      ]
    },
    {
      "cell_type": "code",
      "source": [
        ""
      ],
      "metadata": {
        "id": "DAbMp3vUuvlY"
      },
      "execution_count": null,
      "outputs": []
    }
  ],
  "metadata": {
    "accelerator": "GPU",
    "colab": {
      "collapsed_sections": [],
      "name": "Training Model.ipynb",
      "provenance": []
    },
    "kernelspec": {
      "display_name": "Python 3",
      "name": "python3"
    },
    "language_info": {
      "name": "python"
    }
  },
  "nbformat": 4,
  "nbformat_minor": 0
}